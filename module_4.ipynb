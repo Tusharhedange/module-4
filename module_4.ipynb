{
 "cells": [
  {
   "cell_type": "code",
   "execution_count": 1,
   "metadata": {},
   "outputs": [
    {
     "name": "stdout",
     "output_type": "stream",
     "text": [
      "try to solve assigment module 4\n"
     ]
    }
   ],
   "source": [
    "#Write a Python program to read an entire text file.\n",
    "\n",
    "f=open('module_4.txt')\n",
    "data=f.read()\n",
    "print(data)"
   ]
  },
  {
   "cell_type": "code",
   "execution_count": null,
   "metadata": {},
   "outputs": [],
   "source": []
  },
  {
   "cell_type": "code",
   "execution_count": 41,
   "metadata": {},
   "outputs": [
    {
     "name": "stdout",
     "output_type": "stream",
     "text": [
      "my name is tushar\n",
      "my name is tushar\n",
      "my name is tushar\n",
      "my name is tushar\n",
      "my name is tushar\n",
      "my name is tusharmy name is tushar\n"
     ]
    }
   ],
   "source": [
    "#Write a Python program to append text to a file and display the text.\n",
    "\n",
    "f=open('module_4.txt','a')\n",
    "f.write('my name is tushar')\n",
    "\n",
    "f=open('module_4.txt')\n",
    "print(f.read())\n",
    "f.close()"
   ]
  },
  {
   "cell_type": "code",
   "execution_count": null,
   "metadata": {},
   "outputs": [],
   "source": []
  },
  {
   "cell_type": "code",
   "execution_count": 4,
   "metadata": {},
   "outputs": [
    {
     "name": "stdout",
     "output_type": "stream",
     "text": [
      "read lines: 2\n",
      "my name is tushar\n",
      "my name is tushar\n"
     ]
    }
   ],
   "source": [
    "#Write a Python program to read first n lines of a file.\n",
    "\n",
    "f=open('module_4.txt')\n",
    "n=int(input('read lines: '))\n",
    "for i in range(n):\n",
    "    data=f.readline()\n",
    "    print(data,end='')"
   ]
  },
  {
   "cell_type": "code",
   "execution_count": null,
   "metadata": {},
   "outputs": [],
   "source": []
  },
  {
   "cell_type": "code",
   "execution_count": null,
   "metadata": {},
   "outputs": [],
   "source": []
  },
  {
   "cell_type": "code",
   "execution_count": null,
   "metadata": {},
   "outputs": [],
   "source": []
  },
  {
   "cell_type": "code",
   "execution_count": 3,
   "metadata": {},
   "outputs": [
    {
     "name": "stdout",
     "output_type": "stream",
     "text": [
      "read lines: 2\n",
      "my name is tushar\n",
      "\n",
      "my name is tusharmy name is tushar\n"
     ]
    }
   ],
   "source": [
    "#Write a Python program to read last n lines of a file.\n",
    "\n",
    "f=open('module_4.txt')\n",
    "n=int(input('read lines: '))\n",
    "for i in (f.readlines())[-n:]:\n",
    "    print(i)"
   ]
  },
  {
   "cell_type": "code",
   "execution_count": null,
   "metadata": {},
   "outputs": [],
   "source": []
  },
  {
   "cell_type": "code",
   "execution_count": 6,
   "metadata": {},
   "outputs": [
    {
     "data": {
      "text/plain": [
       "['my name is tushar\\n',\n",
       " 'my name is tushar\\n',\n",
       " 'my name is tushar\\n',\n",
       " 'my name is tushar\\n',\n",
       " 'my name is tushar\\n',\n",
       " 'my name is tusharmy name is tushar']"
      ]
     },
     "execution_count": 6,
     "metadata": {},
     "output_type": "execute_result"
    }
   ],
   "source": [
    "#Write a Python program to read a file line by line and store it into a list\n",
    "\n",
    "f=open('module_4.txt')\n",
    "lst=[]\n",
    "for i in (f.readlines()):\n",
    "    lst.append(i)\n",
    "lst"
   ]
  },
  {
   "cell_type": "code",
   "execution_count": null,
   "metadata": {},
   "outputs": [],
   "source": []
  },
  {
   "cell_type": "code",
   "execution_count": 7,
   "metadata": {},
   "outputs": [],
   "source": [
    "#Write a Python program to read a file line by line store it into a variable.\n",
    "\n",
    "f=open('module_4.txt')\n",
    "lst=[]\n",
    "new_lst=[]\n",
    "for i in (f.readlines()):\n",
    "    lst.append(i)\n",
    "new_lst=lst"
   ]
  },
  {
   "cell_type": "code",
   "execution_count": null,
   "metadata": {},
   "outputs": [],
   "source": []
  },
  {
   "cell_type": "code",
   "execution_count": 8,
   "metadata": {},
   "outputs": [],
   "source": [
    "#Write a python program to find the longest words.\n",
    "\n"
   ]
  },
  {
   "cell_type": "code",
   "execution_count": null,
   "metadata": {},
   "outputs": [],
   "source": []
  },
  {
   "cell_type": "code",
   "execution_count": 9,
   "metadata": {},
   "outputs": [
    {
     "data": {
      "text/plain": [
       "6"
      ]
     },
     "execution_count": 9,
     "metadata": {},
     "output_type": "execute_result"
    }
   ],
   "source": [
    "# Write a Python program to count the number of lines in a text file.\n",
    "\n",
    "f=open('module_4.txt')\n",
    "count=0\n",
    "for i in (f.readlines()):\n",
    "    count+=1\n",
    "count"
   ]
  },
  {
   "cell_type": "code",
   "execution_count": 10,
   "metadata": {},
   "outputs": [],
   "source": [
    "#Write a Python program to count the frequency of words in a file."
   ]
  },
  {
   "cell_type": "code",
   "execution_count": null,
   "metadata": {},
   "outputs": [],
   "source": []
  },
  {
   "cell_type": "code",
   "execution_count": 20,
   "metadata": {},
   "outputs": [
    {
     "name": "stdout",
     "output_type": "stream",
     "text": [
      "['tushar']\n",
      "tushar\n"
     ]
    }
   ],
   "source": [
    "#Write a Python program to write a list to a file.\n",
    "\n",
    "lst=eval(input())\n",
    "f=open('module_4.txt','w')\n",
    "for item in lst:\n",
    "    f.write(item)\n",
    "f.close()\n",
    "f=open('module_4.txt')\n",
    "data=f.read()\n",
    "print(data)"
   ]
  },
  {
   "cell_type": "code",
   "execution_count": 21,
   "metadata": {},
   "outputs": [],
   "source": [
    "#Write a Python program to copy the contents of a file to another file."
   ]
  },
  {
   "cell_type": "code",
   "execution_count": null,
   "metadata": {},
   "outputs": [],
   "source": []
  },
  {
   "cell_type": "code",
   "execution_count": null,
   "metadata": {},
   "outputs": [],
   "source": []
  },
  {
   "cell_type": "code",
   "execution_count": null,
   "metadata": {},
   "outputs": [],
   "source": [
    "---------------exception handling-----------------"
   ]
  },
  {
   "cell_type": "code",
   "execution_count": null,
   "metadata": {},
   "outputs": [],
   "source": [
    "#Explain Exception handling?\n",
    "\n",
    "Exception handling is the process of responding to unwanted or unexpected events when a computer program runs"
   ]
  },
  {
   "cell_type": "code",
   "execution_count": null,
   "metadata": {},
   "outputs": [],
   "source": [
    "#  What is an Error in Python?\n",
    "There are mainly three kinds of distinguishable errors in Python: syntax errors, exceptions and logical errors"
   ]
  },
  {
   "cell_type": "code",
   "execution_count": null,
   "metadata": {},
   "outputs": [],
   "source": [
    "#  When will the else part of try-except-else be executed?\n",
    "    The else part is executed when no exception occurs."
   ]
  },
  {
   "cell_type": "code",
   "execution_count": null,
   "metadata": {},
   "outputs": [],
   "source": [
    "# When is the finally block executed?\n",
    "The finally block always executes when the try block exits. \n",
    "This ensures that the finally block is executed even if an unexpected exception occurs"
   ]
  },
  {
   "cell_type": "code",
   "execution_count": null,
   "metadata": {},
   "outputs": [],
   "source": [
    "# What happens when „1‟== 1 is executed?\n",
    "It simply evaluates to False and does not raise any exception"
   ]
  },
  {
   "cell_type": "code",
   "execution_count": null,
   "metadata": {},
   "outputs": [],
   "source": [
    "# What are oops concepts? Is multiple inheritance supported in java\n",
    "\n",
    "OOP (object-oriented programming) concepts in Python include Class, Object, \n",
    "Method, Inheritance, Polymorphism, Data Abstraction, and Encapsulation.\n",
    "\n",
    "The Java programming language supports multiple inheritance of type, \n",
    "which is the ability of a class to implement more than one interface"
   ]
  },
  {
   "cell_type": "code",
   "execution_count": 1,
   "metadata": {},
   "outputs": [
    {
     "ename": "SyntaxError",
     "evalue": "invalid syntax (<ipython-input-1-f9d1047adea1>, line 2)",
     "output_type": "error",
     "traceback": [
      "\u001b[1;36m  File \u001b[1;32m\"<ipython-input-1-f9d1047adea1>\"\u001b[1;36m, line \u001b[1;32m2\u001b[0m\n\u001b[1;33m    A Class is like an object constructor, or a \"blueprint\" for creating objects.\u001b[0m\n\u001b[1;37m          ^\u001b[0m\n\u001b[1;31mSyntaxError\u001b[0m\u001b[1;31m:\u001b[0m invalid syntax\n"
     ]
    }
   ],
   "source": [
    "How to Define a Class in Python?\n",
    "A Class is like an object constructor, or a \"blueprint\" for creating objects.\n",
    "\n",
    "class Student:\n",
    "    pass\n",
    "\n",
    "What Is Self?\n",
    "self represents the instance of the class.\n",
    "By using the “self” we can access the attributes and methods of the class in python\n",
    "\n",
    "Give An Example Of A Python Class:\n",
    "class Student:\n",
    "    def __init__(self,name,age):\n",
    "        self.name=name\n",
    "        self.age=age\n",
    "    def detail(self):\n",
    "        print('my name is',self.name)\n",
    "        print('my age is',self.age)\n",
    "s1=Student('tushar',65)\n",
    "s1.name\n",
    "s1.age"
   ]
  },
  {
   "cell_type": "code",
   "execution_count": 10,
   "metadata": {},
   "outputs": [
    {
     "data": {
      "text/plain": [
       "65"
      ]
     },
     "execution_count": 10,
     "metadata": {},
     "output_type": "execute_result"
    }
   ],
   "source": [
    "Explain Inheritance in Python with an example?\n",
    "nheritance relationship defines the classes that inherit from other classes as derived, \n",
    "subclass, or sub-type classes.\n",
    "\n",
    "class Student:\n",
    "    def __init__(self,name,age):\n",
    "        self.name=name\n",
    "        self.age=age\n",
    "    def detail(self):\n",
    "        print('my name is',self.name)\n",
    "        print('my age is',self.age)\n",
    "s1=Student('tushar',65)\n",
    "s1.name\n",
    "s1.age\n",
    "\n",
    "What is init?\n",
    "init is a constructor\n",
    "Constructors are used to initializing the object’s state\n",
    "\n",
    "\n",
    "Or What Is A Constructor In Python?\n",
    "The constructor is a method that is called when an object is created. \n",
    "This method is defined in the class and can be used to initialize basic variables. \n",
    "If you create four objects, the class constructor is called four times"
   ]
  },
  {
   "cell_type": "code",
   "execution_count": null,
   "metadata": {},
   "outputs": [],
   "source": [
    "What is used to check whether an object o is an instance of class A?\n",
    "\n",
    "The isinstance() function checks if the object (first argument) is an instance \n",
    "or subclass of the class info class (second argument)"
   ]
  },
  {
   "cell_type": "code",
   "execution_count": null,
   "metadata": {},
   "outputs": [],
   "source": []
  }
 ],
 "metadata": {
  "kernelspec": {
   "display_name": "Python 3",
   "language": "python",
   "name": "python3"
  },
  "language_info": {
   "codemirror_mode": {
    "name": "ipython",
    "version": 3
   },
   "file_extension": ".py",
   "mimetype": "text/x-python",
   "name": "python",
   "nbconvert_exporter": "python",
   "pygments_lexer": "ipython3",
   "version": "3.7.6"
  }
 },
 "nbformat": 4,
 "nbformat_minor": 4
}
